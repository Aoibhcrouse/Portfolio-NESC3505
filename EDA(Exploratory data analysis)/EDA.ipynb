{
 "cells": [
  {
   "cell_type": "code",
   "execution_count": 14,
   "metadata": {
    "collapsed": false,
    "deletable": false,
    "nbgrader": {
     "cell_type": "code",
     "checksum": "a6da6700232d294206f68e552a28072b",
     "grade": true,
     "grade_id": "cell-4980a9bebe29b6ea",
     "locked": false,
     "points": 1,
     "schema_version": 3,
     "solution": true,
     "task": false
    }
   },
   "outputs": [],
   "source": [
    "ztransforms = [np.array(stats.zscore(df[df.id == subject]['rt_ms'])) for subject in df['id'].unique()]\n",
    "df['zscore'] = np.concatenate(ztransforms)\n",
    "\n",
    "#This shows the z transformation of the data, which standardizes it to allow for easier statistical analysis."
   ]
  },
  {
   "cell_type": "code",
   "execution_count": 24,
   "metadata": {
    "collapsed": false,
    "deletable": false,
    "nbgrader": {
     "cell_type": "code",
     "checksum": "9fa96bb0b948424e1430e8534d83dfc6",
     "grade": true,
     "grade_id": "cell-56af952c8d12e585",
     "locked": false,
     "points": 1,
     "schema_version": 3,
     "solution": true,
     "task": false
    }
   },
   "outputs": [
    {
     "name": "stdout",
     "output_type": "stream",
     "text": [
      "Flanker incongruent vs. congruent (Simon-compatible trials only) t = -1.14  p =  0.2659\n"
     ]
    }
   ],
   "source": [
    "t, p = stats.ttest_rel(fc_sc, fi_sc)\n",
    "\n",
    "print('Flanker incongruent vs. congruent (Simon-compatible trials only) t =', str(round(t, 2)), \n",
    "      ' p = ', str(round(p, 4)))\n",
    "\n",
    "#This code displays T-test for specific conditions."
   ]
  },
  {
   "cell_type": "code",
   "execution_count": 25,
   "metadata": {
    "collapsed": false,
    "deletable": false,
    "nbgrader": {
     "cell_type": "code",
     "checksum": "b2b60dbfe38e6c6f72b5ab34d9f95ef8",
     "grade": true,
     "grade_id": "cell-a07e023cfb35e305",
     "locked": false,
     "points": 1,
     "schema_version": 3,
     "solution": true,
     "task": false
    }
   },
   "outputs": [
    {
     "name": "stdout",
     "output_type": "stream",
     "text": [
      "Simon-compatible vs incompatible (Flanker congruent trials only) t = 2.44  p =  0.0232\n"
     ]
    }
   ],
   "source": [
    "t, p = stats.ttest_rel(fc_si, fc_sc)\n",
    "\n",
    "print('Simon-compatible vs incompatible (Flanker congruent trials only) t =', str(round(t, 2)), \n",
    "      ' p = ', str(round(p, 4)))\n",
    "\n",
    "#This code displays T-test for specific conditions."
   ]
  },
  {
   "cell_type": "code",
   "execution_count": 26,
   "metadata": {
    "collapsed": false,
    "deletable": false,
    "nbgrader": {
     "cell_type": "code",
     "checksum": "5ab0a6b942ee341dc48b1d8c4fc7f19c",
     "grade": true,
     "grade_id": "cell-32dd76cdbd752d13",
     "locked": false,
     "points": 1,
     "schema_version": 3,
     "solution": true,
     "task": false
    }
   },
   "outputs": [
    {
     "name": "stdout",
     "output_type": "stream",
     "text": [
      "Incongruent-Incompatible vs. Congruent-Compatible t = 3.64  p =  0.0014\n"
     ]
    }
   ],
   "source": [
    "t, p = stats.ttest_rel(fi_si, fc_si)\n",
    "\n",
    "print('Incongruent-Incompatible vs. Congruent-Compatible t =', str(round(t, 2)), \n",
    "      ' p = ', str(round(p, 4)))\n",
    "\n",
    "#This code displays T-test for specific conditions."
   ]
  },
  {
   "cell_type": "code",
   "execution_count": 27,
   "metadata": {
    "collapsed": false,
    "deletable": false,
    "nbgrader": {
     "cell_type": "code",
     "checksum": "3e89a00a9ffcabe5cc40851e76fe8ee3",
     "grade": true,
     "grade_id": "cell-4b4d9f10c57732a6",
     "locked": false,
     "points": 1,
     "schema_version": 3,
     "solution": true,
     "task": false
    }
   },
   "outputs": [
    {
     "name": "stdout",
     "output_type": "stream",
     "text": [
      "Incongruent-Incompatible vs. Incongruent-Compatible t = 2.66  p =  0.0142\n"
     ]
    }
   ],
   "source": [
    "t, p = stats.ttest_rel(fi_si, fi_sc)\n",
    "\n",
    "print('Incongruent-Incompatible vs. Incongruent-Compatible t =', str(round(t, 2)), \n",
    "      ' p = ', str(round(p, 4)))\n",
    "\n",
    "#This code displays T-test for specific conditions."
   ]
  },
  {
   "cell_type": "code",
   "execution_count": 33,
   "metadata": {
    "collapsed": false,
    "deletable": false,
    "nbgrader": {
     "cell_type": "code",
     "checksum": "e97d4b4e435078bfb62c1367a2914b39",
     "grade": true,
     "grade_id": "yukuyiulk",
     "locked": false,
     "points": 1,
     "schema_version": 3,
     "solution": true,
     "task": false
    }
   },
   "outputs": [
    {
     "name": "stdout",
     "output_type": "stream",
     "text": [
      "Flanker incongruent vs. congruent (Simon-compatible trials only) t = 1.45  p =  0.1619\n"
     ]
    }
   ],
   "source": [
    "t, p = stats.ttest_rel(fc_sc_acc, fi_sc_acc)\n",
    "\n",
    "print('Flanker incongruent vs. congruent (Simon-compatible trials only) t =', str(round(t, 2)), \n",
    "      ' p = ', str(round(p, 4)))\n",
    "\n",
    "#This code displays T-test for the accuracy rates of specific conditions."
   ]
  },
  {
   "cell_type": "code",
   "execution_count": 34,
   "metadata": {
    "collapsed": false,
    "deletable": false,
    "nbgrader": {
     "cell_type": "code",
     "checksum": "ef06b25d49c6ec6ef5526713d9c8d28c",
     "grade": true,
     "grade_id": "cell-a07e023cf76yutk7yetub35e305",
     "locked": false,
     "points": 1,
     "schema_version": 3,
     "solution": true,
     "task": false
    }
   },
   "outputs": [
    {
     "name": "stdout",
     "output_type": "stream",
     "text": [
      "Simon-compatible vs incompatible (Flanker congruent trials only) t = 2.91  p =  0.0081\n"
     ]
    }
   ],
   "source": [
    "t, p = stats.ttest_rel(fc_sc_acc, fc_si_acc)\n",
    "\n",
    "print('Simon-compatible vs incompatible (Flanker congruent trials only) t =', str(round(t, 2)), \n",
    "      ' p = ', str(round(p, 4)))\n",
    "\n",
    "#This code displays T-test for the accuracy rates of specific conditions."
   ]
  },
  {
   "cell_type": "code",
   "execution_count": 35,
   "metadata": {
    "collapsed": false,
    "deletable": false,
    "nbgrader": {
     "cell_type": "code",
     "checksum": "c0b7b63974d2dc6e748d67a04452a57c",
     "grade": true,
     "grade_id": "j76rk",
     "locked": false,
     "points": 1,
     "schema_version": 3,
     "solution": true,
     "task": false
    }
   },
   "outputs": [
    {
     "name": "stdout",
     "output_type": "stream",
     "text": [
      "Incongruent-Incompatible vs. Congruent-Compatible t = -1.86  p =  0.0763\n"
     ]
    }
   ],
   "source": [
    "t, p = stats.ttest_rel(fi_si_acc, fc_si_acc)\n",
    "\n",
    "print('Incongruent-Incompatible vs. Congruent-Compatible t =', str(round(t, 2)), \n",
    "      ' p = ', str(round(p, 4)))\n",
    "\n",
    "#This code displays T-test for the accuracy rates of specific conditions."
   ]
  },
  {
   "cell_type": "code",
   "execution_count": 36,
   "metadata": {
    "collapsed": false,
    "deletable": false,
    "nbgrader": {
     "cell_type": "code",
     "checksum": "056072d85358ee0de494c92d2a009580",
     "grade": true,
     "grade_id": "cell-4b4d9f1jhkhfjkh0c57732a6",
     "locked": false,
     "points": 1,
     "schema_version": 3,
     "solution": true,
     "task": false
    }
   },
   "outputs": [
    {
     "name": "stdout",
     "output_type": "stream",
     "text": [
      "Incongruent-Incompatible vs. Incongruent-Compatible t = -2.91  p =  0.0081\n"
     ]
    }
   ],
   "source": [
    "t, p = stats.ttest_rel(fi_si_acc, fi_sc_acc)\n",
    "\n",
    "print('Incongruent-Incompatible vs. Incongruent-Compatible t =', str(round(t, 2)), \n",
    "      ' p = ', str(round(p, 4)))\n",
    "\n",
    "#This code displays T-test for the accuracy rates of specific conditions."
   ]
  }
 ],
 "metadata": {
  "celltoolbar": "Create Assignment",
  "kernelspec": {
   "display_name": "Python 3 (system-wide)",
   "language": "python",
   "metadata": {
    "cocalc": {
     "description": "Python 3 programming language",
     "priority": 100,
     "url": "https://www.python.org/"
    }
   },
   "name": "python3",
   "resource_dir": "/ext/jupyter/kernels/python3"
  },
  "language_info": {
   "codemirror_mode": {
    "name": "ipython",
    "version": 3
   },
   "file_extension": ".py",
   "mimetype": "text/x-python",
   "name": "python",
   "nbconvert_exporter": "python",
   "pygments_lexer": "ipython3",
   "version": "3.8.10"
  }
 },
 "nbformat": 4,
 "nbformat_minor": 4
}
